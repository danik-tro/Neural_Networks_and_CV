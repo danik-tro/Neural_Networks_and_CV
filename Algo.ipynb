{
 "cells": [
  {
   "cell_type": "markdown",
   "metadata": {},
   "source": [
    "# Числа Фибоначчи. Наивный и улучшенный алгоритмы"
   ]
  },
  {
   "cell_type": "code",
   "execution_count": 46,
   "metadata": {},
   "outputs": [
    {
     "data": {
      "text/plain": [
       "21"
      ]
     },
     "execution_count": 46,
     "metadata": {},
     "output_type": "execute_result"
    }
   ],
   "source": [
    "def fib(n):\n",
    "    fibs = [0 if i != 1 else 1 for i in range(n+1)]\n",
    "    for i in range(2, n+1):\n",
    "        fibs[i] = fibs[i-1] + fibs[i-2]\n",
    "    return fibs[n]\n",
    "fib(100)\n",
    "\n",
    "\n",
    "\n",
    "def fib_fast(n):\n",
    "    f0, f1 = 0, 1\n",
    "    for i in range(n-1):\n",
    "        f0, f1 = f1, f0 + f1\n",
    "    return f1\n",
    "fib_fast(8)"
   ]
  },
  {
   "cell_type": "markdown",
   "metadata": {},
   "source": [
    "# Последняя цифра числа Фибоначчи"
   ]
  },
  {
   "cell_type": "code",
   "execution_count": 17,
   "metadata": {},
   "outputs": [
    {
     "data": {
      "text/plain": [
       "5"
      ]
     },
     "execution_count": 17,
     "metadata": {},
     "output_type": "execute_result"
    }
   ],
   "source": [
    "def fib(n):\n",
    "    fibs = [0 if i != 1 else 1 for i in range(n+1)]\n",
    "    for i in range(2, n+1):\n",
    "        fibs[i] = (fibs[i-1] + fibs[i-2]) % 10\n",
    "    return fibs[n]\n",
    "fib(10)"
   ]
  },
  {
   "cell_type": "markdown",
   "metadata": {},
   "source": [
    "# Период Пизано и остаток деления числа Фибоначчи"
   ]
  },
  {
   "cell_type": "code",
   "execution_count": 31,
   "metadata": {},
   "outputs": [
    {
     "data": {
      "text/plain": [
       "0"
      ]
     },
     "execution_count": 31,
     "metadata": {},
     "output_type": "execute_result"
    }
   ],
   "source": [
    "def Pizano(m):\n",
    "    fibs = [0, 1]\n",
    "    for i in range(2, 6*m):\n",
    "        fibs.append((fibs[i-1] + fibs[i-2]) % m)\n",
    "        if fibs[i] == 1 and fibs[i-1] == 0:\n",
    "            return fibs\n",
    "            \n",
    "        \n",
    "def fib(n, m):\n",
    "    x = Pizano(m)\n",
    "    return x[n % (len(x) - 2)]\n",
    "    \n",
    "fib(10, 5)"
   ]
  },
  {
   "cell_type": "markdown",
   "metadata": {},
   "source": [
    "# Алгоритм Евклида"
   ]
  },
  {
   "cell_type": "code",
   "execution_count": 101,
   "metadata": {},
   "outputs": [],
   "source": [
    "def gcd(a, b):\n",
    "    if a == 0 or b == 0:\n",
    "        return a + b\n",
    "    if a > b:\n",
    "        return gcd(a % b, b)\n",
    "    return gcd(b % a, a)\n",
    "\n",
    "def gcd_2(a, b):\n",
    "    while a and b:\n",
    "        if a > b:\n",
    "            a %= b\n",
    "        else:\n",
    "            b %= a\n",
    "    return a+b"
   ]
  },
  {
   "cell_type": "code",
   "execution_count": 87,
   "metadata": {},
   "outputs": [],
   "source": [
    "import time \n",
    "\n",
    "def timed(f, *args, n_iter=100):\n",
    "    acc = float('inf')\n",
    "    for i in range(n_iter):\n",
    "        t0 = time.perf_counter()\n",
    "        f(*args)\n",
    "        t1 = time.perf_counter()\n",
    "        acc = min(acc, t1 - t0)\n",
    "    return acc"
   ]
  },
  {
   "cell_type": "code",
   "execution_count": 58,
   "metadata": {},
   "outputs": [
    {
     "name": "stdout",
     "output_type": "stream",
     "text": [
      "0.0024010999986785464 0.0009534999990137294\n"
     ]
    }
   ],
   "source": [
    "print(timed(fib, 8000), timed(fib_fast, 8000))"
   ]
  },
  {
   "cell_type": "code",
   "execution_count": 96,
   "metadata": {},
   "outputs": [],
   "source": [
    "%matplotlib inline\n",
    "from matplotlib import pyplot as plt\n",
    "\n",
    "def compare(fs, args):\n",
    "    for f in fs:\n",
    "        plt.plot(args, [timed(f, arg) for arg in args], label=f.__name__)\n",
    "        plt.legend()\n",
    "        plt.grid(True)"
   ]
  },
  {
   "cell_type": "code",
   "execution_count": 97,
   "metadata": {},
   "outputs": [
    {
     "data": {
      "image/png": "[encoded data removed]",
      "text/plain": [
       "<Figure size 432x288 with 1 Axes>"
      ]
     },
     "metadata": {
      "needs_background": "light"
     },
     "output_type": "display_data"
    }
   ],
   "source": [
    "compare([fib, fib_fast], list(range(200)))"
   ]
  },
  {
   "cell_type": "markdown",
   "metadata": {},
   "source": [
    "# Задача на программирование: покрыть отрезки точками\n",
    "### По данным n отрезкам необходимо найти множество точек минимального размера, для которого каждый из отрезков содержит хотя бы одну из точек.\n",
    "\n",
    "### В первой строке дано число 1≤n≤100 отрезков. Каждая из последующих n строк содержит по два числа 0≤l≤r≤109, задающих начало и конец отрезка. Выведите оптимальное число m точек и сами m точек. Если таких множеств точек несколько, выведите любое из них."
   ]
  },
  {
   "cell_type": "code",
   "execution_count": 1,
   "metadata": {},
   "outputs": [],
   "source": [
    "def checked(sets):\n",
    "    result = []\n",
    "    while sets:\n",
    "        result.append(sets[0][1])\n",
    "        sets = list(filter( lambda x: x[0] > result[len(result) - 1], sets))\n",
    "    return list(map(str,result))"
   ]
  },
  {
   "cell_type": "code",
   "execution_count": null,
   "metadata": {},
   "outputs": [],
   "source": [
    "import string\n",
    "import sys\n",
    "\n",
    "def main():\n",
    "    input = sys.stdin\n",
    "    n = int(input.readline())\n",
    "    S = []\n",
    "    for i in range(1,n+1):\n",
    "        x,y = map(int, input.readline().split())\n",
    "        S.append([x,y])\n",
    "        S.sort(key = lambda x: x[1])\n",
    "    x = checked(S)\n",
    "    \n",
    "        \n",
    "    print(str(len(x))+'\\n'+' '.join(x))\n",
    "        \n",
    "if __name__ == \"__main__\":\n",
    "    main()"
   ]
  },
  {
   "cell_type": "code",
   "execution_count": null,
   "metadata": {},
   "outputs": [],
   "source": []
  }
 ],
 "metadata": {
  "kernelspec": {
   "display_name": "Python 3",
   "language": "python",
   "name": "python3"
  },
  "language_info": {
   "codemirror_mode": {
    "name": "ipython",
    "version": 3
   },
   "file_extension": ".py",
   "mimetype": "text/x-python",
   "name": "python",
   "nbconvert_exporter": "python",
   "pygments_lexer": "ipython3",
   "version": "3.7.3"
  }
 },
 "nbformat": 4,
 "nbformat_minor": 2
}
