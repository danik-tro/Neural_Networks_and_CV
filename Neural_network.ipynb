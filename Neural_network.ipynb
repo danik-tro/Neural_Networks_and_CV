{
 "cells": [
  {
   "cell_type": "code",
   "execution_count": 7,
   "metadata": {},
   "outputs": [
    {
     "name": "stdout",
     "output_type": "stream",
     "text": [
      "1.1\n"
     ]
    }
   ],
   "source": [
    "\"\"\"neural network for prediction with some input and one output\"\"\"\n",
    "\n",
    "#function for mult two vectors\n",
    "def mult_vec(a,b):\n",
    "    assert len(a) == len(b)\n",
    "    output = 0 \n",
    "    for i in range(len(a)):\n",
    "        output += a[i] * b[i]\n",
    "    return output\n",
    "\n",
    "#function for rearization neural network\n",
    "def neural_net(input_s, weights):\n",
    "    return mult_vec(input_s, weights)\n",
    "\n",
    "print(neural_net([.1,.2,0], [5,3,1]));"
   ]
  },
  {
   "cell_type": "code",
   "execution_count": 3,
   "metadata": {},
   "outputs": [],
   "source": [
    "import numpy as np"
   ]
  },
  {
   "cell_type": "code",
   "execution_count": 8,
   "metadata": {},
   "outputs": [
    {
     "name": "stdout",
     "output_type": "stream",
     "text": [
      "1.1\n"
     ]
    }
   ],
   "source": [
    "\"\"\"Code with use NumPy\"\"\"\n",
    "weights = np.array([0.1, 0.2, 0]) # weights for our neural network\n",
    "input_s = np.array([5,3,1])\n",
    "\n",
    "def neural_net(input_s, weights):\n",
    "    return input_s.dot(weights)\n",
    "\n",
    "print(neural_net(input_s, weights))"
   ]
  },
  {
   "cell_type": "code",
   "execution_count": 12,
   "metadata": {},
   "outputs": [
    {
     "name": "stdout",
     "output_type": "stream",
     "text": [
      "[0.2135 0.145  0.5065]\n"
     ]
    }
   ],
   "source": [
    "\"\"\"Neural network with hidden layer for calculate prediction with NumPy\"\"\"\n",
    "ih_wgt = np.array([[.1, .2, -.1],\n",
    "                  [-.1, .1, .9],\n",
    "                  [.1, .4, .1]]).T\n",
    "hp_wgt = np.array([\n",
    "    [.3, 1.1, -.3],\n",
    "    [.1, .2, .0],\n",
    "    [.0, 1.3, .1]\n",
    "]).T\n",
    "weights = [ih_wgt, hp_wgt]\n",
    "\n",
    "def neural_net(input_s, weigts):\n",
    "    hid = input_s.dot(weights[0]) #first layer(hidden)\n",
    "    return hid.dot(weights[1]) # second layer(out)\n",
    "\n",
    "input_s = np.array([8.5, .65, 1.2])\n",
    "\n",
    "print(neural_net(input_s, weights))\n"
   ]
  },
  {
   "cell_type": "code",
   "execution_count": 23,
   "metadata": {},
   "outputs": [],
   "source": [
    "\"\"\"Secrets of NumPy\"\"\"\n",
    "a = np.array([1,2,3,4]) #This is vector\n",
    "b = np.array([5,6,7,8]) # This is too vector, but vector others numbers\n",
    "c = np.array([\n",
    "    [.1, .2, .3],\n",
    "    [.5, -.4, .3],\n",
    "    [-.1, -.2, -.15]\n",
    "]) # But this is Matrix(Vector of vectors)\n",
    "d = np.zeros((3,4))\n",
    "e = np.random.rand(2,5)"
   ]
  },
  {
   "cell_type": "code",
   "execution_count": null,
   "metadata": {},
   "outputs": [],
   "source": []
  },
  {
   "cell_type": "code",
   "execution_count": null,
   "metadata": {},
   "outputs": [],
   "source": []
  }
 ],
 "metadata": {
  "kernelspec": {
   "display_name": "Python 3",
   "language": "python",
   "name": "python3"
  },
  "language_info": {
   "codemirror_mode": {
    "name": "ipython",
    "version": 3
   },
   "file_extension": ".py",
   "mimetype": "text/x-python",
   "name": "python",
   "nbconvert_exporter": "python",
   "pygments_lexer": "ipython3",
   "version": "3.5.6"
  }
 },
 "nbformat": 4,
 "nbformat_minor": 2
}
