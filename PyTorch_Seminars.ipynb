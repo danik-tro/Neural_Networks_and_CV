{
 "cells": [
  {
   "cell_type": "code",
   "execution_count": 7,
   "metadata": {},
   "outputs": [
    {
     "name": "stdout",
     "output_type": "stream",
     "text": [
      "Hello world!\n"
     ]
    }
   ],
   "source": [
    "print(\"Hello world!\")"
   ]
  },
  {
   "cell_type": "code",
   "execution_count": 8,
   "metadata": {},
   "outputs": [
    {
     "name": "stdout",
     "output_type": "stream",
     "text": [
      "0\n",
      "1\n",
      "2\n",
      "3\n",
      "4\n",
      "5\n",
      "6\n",
      "7\n",
      "8\n",
      "9\n",
      "1\n",
      "2\n",
      "3\n",
      "4\n",
      "5\n",
      "6\n",
      "7\n",
      "8\n",
      "9\n",
      "10\n"
     ]
    }
   ],
   "source": [
    "#For and while loops\n",
    "for i in range(10):\n",
    "    print(i)\n",
    "i = 0\n",
    "while i < 10:\n",
    "    i += 1\n",
    "    print(i)\n",
    "    "
   ]
  },
  {
   "cell_type": "code",
   "execution_count": 9,
   "metadata": {},
   "outputs": [
    {
     "name": "stdout",
     "output_type": "stream",
     "text": [
      "100\n",
      "Your weight so-so!\n"
     ]
    }
   ],
   "source": [
    "weight = int(input())\n",
    "if weight <= 40:\n",
    "    print(\"You are anoreksik!!! Go to the eat chicken!!!\")\n",
    "elif weight <= 60:\n",
    "    print(\"You are beatiful!!!\")\n",
    "elif weight <= 100:\n",
    "    print(\"Your weight so-so!\")\n",
    "else:\n",
    "    print(\"You need go to the sport!!!\")\n",
    "    \n",
    "    "
   ]
  },
  {
   "cell_type": "code",
   "execution_count": 11,
   "metadata": {},
   "outputs": [
    {
     "name": "stdout",
     "output_type": "stream",
     "text": [
      "Using device: cuda\n",
      "\n",
      "GeForce GTX 1650\n",
      "Memory Usage:\n",
      "Allocated: 0.0 GB\n",
      "Cached:    0.0 GB\n"
     ]
    }
   ],
   "source": [
    "#import lib for machine learning\n",
    "import torch\n",
    "\n",
    "\n",
    "device = torch.device('cuda' if torch.cuda.is_available() else 'cpu')\n",
    "print('Using device:', device)\n",
    "print()\n",
    "\n",
    "#Additional Info when using cuda\n",
    "if device.type == 'cuda':\n",
    "    print(torch.cuda.get_device_name(0))\n",
    "    print('Memory Usage:')\n",
    "    print('Allocated:', round(torch.cuda.memory_allocated(0)/1024**3,1), 'GB')\n",
    "    print('Cached:   ', round(torch.cuda.memory_cached(0)/1024**3,1), 'GB')"
   ]
  },
  {
   "cell_type": "code",
   "execution_count": 26,
   "metadata": {},
   "outputs": [
    {
     "name": "stdout",
     "output_type": "stream",
     "text": [
      "Weights:\n",
      " tensor([[0.9778, 1.9803, 3.0806],\n",
      "        [4.1651, 5.0250, 5.6879],\n",
      "        [6.5386, 7.9348, 9.6638]], requires_grad=True) \n",
      "Weights second(X.data)\n",
      " tensor([[0.9778, 1.9803, 3.0806],\n",
      "        [4.1651, 5.0250, 5.6879],\n",
      "        [6.5386, 7.9348, 9.6638]])\n"
     ]
    }
   ],
   "source": [
    "#Init tensor for learning\n",
    "X = torch.tensor([[1.,2.,3.],[4.,5.,6.],[7.,8.,9.]], requires_grad=True)\n",
    "alpha = 0.01\n",
    "optimizer = torch.optim.SGD([X], alpha)\n",
    "function = (torch.sin(X) * X ** 2).sum()\n",
    "# First iteration\n",
    "function.backward() # Derivative for function\n",
    "optimizer.step() # Iteration(We need zero grad, becouse grad == sum of all grad)\n",
    "optimizer.zero_grad() # zero grad\n",
    "\n",
    "print(\"Weights:\\n\", X, \"\\nWeights second(X.data)\\n\", X.data) # out weights\n",
    "\n"
   ]
  },
  {
   "cell_type": "code",
   "execution_count": 27,
   "metadata": {},
   "outputs": [
    {
     "name": "stdout",
     "output_type": "stream",
     "text": [
      "tensor([[ 4.8691,  4.8691,  4.8691, 11.0360],\n",
      "        [11.0360, 11.0360, 17.2999, 17.2999]], requires_grad=True)\n"
     ]
    }
   ],
   "source": [
    "y = torch.tensor([[5., 6., 7., 8.],[12., 13., 16., 18.]], requires_grad=True)\n",
    "alpha = 0.01\n",
    "optimizer = torch.optim.SGD([y], alpha)\n",
    "for i in range(500):\n",
    "    function = (torch.log( - y + y ** 2) * torch.sin(y)).sum()\n",
    "    function.backward()\n",
    "    optimizer.step()\n",
    "    optimizer.zero_grad()\n",
    "print(y)"
   ]
  },
  {
   "cell_type": "code",
   "execution_count": 31,
   "metadata": {},
   "outputs": [],
   "source": [
    "import matplotlib\n",
    "import matplotlib.pyplot as plt\n",
    "import numpy as np\n",
    "%matplotlib inline\n",
    "np.random.seed(444)"
   ]
  },
  {
   "cell_type": "code",
   "execution_count": 112,
   "metadata": {},
   "outputs": [
    {
     "data": {
      "text/plain": [
       "[<matplotlib.lines.Line2D at 0x7f257eabac88>]"
      ]
     },
     "execution_count": 112,
     "metadata": {},
     "output_type": "execute_result"
    },
    {
     "data": {
      "image/png": "[encoded data removed]",
      "text/plain": [
       "<Figure size 432x288 with 1 Axes>"
      ]
     },
     "metadata": {
      "needs_background": "light"
     },
     "output_type": "display_data"
    }
   ],
   "source": [
    "import math\n",
    "x = [math.sin(float(i/100))*math.log(float(i/100+(100*i/100)**2+3))*1/(1 if i == 0 else i/100) for i in range(-1200, 1201)]\n",
    "plt.plot(x)\n",
    "x = [((i/100 if i >=0 else 1)**(-i/100))  for i in range(-1200, 1201)]\n",
    "plt.plot(x)"
   ]
  },
  {
   "cell_type": "code",
   "execution_count": 81,
   "metadata": {},
   "outputs": [],
   "source": [
    "import torch\n"
   ]
  },
  {
   "cell_type": "code",
   "execution_count": 16,
   "metadata": {},
   "outputs": [],
   "source": [
    "%matplotlib inline\n",
    "import matplotlib.pyplot as plt\n",
    "import matplotlib\n",
    "from matplotlib.pyplot import figure\n",
    "\n"
   ]
  },
  {
   "cell_type": "code",
   "execution_count": 17,
   "metadata": {},
   "outputs": [
    {
     "data": {
      "image/png": "[encoded data removed]",
      "text/plain": [
       "<Figure size 936x360 with 1 Axes>"
      ]
     },
     "metadata": {
      "needs_background": "light"
     },
     "output_type": "display_data"
    }
   ],
   "source": [
    "#Train dataset\n",
    "figure(figsize=(13.0, 5.0))\n",
    "x_train = torch.rand(100)\n",
    "x_train = x_train * 20.0 - 10.0\n",
    "y_train = torch.sin(x_train)\n",
    "plt.plot(x_train.numpy(), y_train.numpy(), 'o')\n",
    "plt.title('$y = sin(x)$');"
   ]
  },
  {
   "cell_type": "code",
   "execution_count": 18,
   "metadata": {},
   "outputs": [
    {
     "data": {
      "text/plain": [
       "Text(0.5, 1.0, 'Gaussian noise')"
      ]
     },
     "execution_count": 18,
     "metadata": {},
     "output_type": "execute_result"
    },
    {
     "data": {
      "image/png": "[encoded data removed]",
      "text/plain": [
       "<Figure size 936x360 with 1 Axes>"
      ]
     },
     "metadata": {
      "needs_background": "light"
     },
     "output_type": "display_data"
    }
   ],
   "source": [
    "figure(figsize=(13.0, 5.0))\n",
    "noise = torch.randn(y_train.shape) / 5.\n",
    "plt.plot(x_train.numpy(),noise.numpy(), 'o')\n",
    "plt.axis([-10,10, -1, 1])\n",
    "plt.title('Gaussian noise')"
   ]
  },
  {
   "cell_type": "code",
   "execution_count": 19,
   "metadata": {},
   "outputs": [
    {
     "data": {
      "image/png": "[encoded data removed]",
      "text/plain": [
       "<Figure size 936x360 with 1 Axes>"
      ]
     },
     "metadata": {
      "needs_background": "light"
     },
     "output_type": "display_data"
    }
   ],
   "source": [
    "figure(figsize=(13.0, 5.0))\n",
    "y_train += noise\n",
    "plt.plot(x_train.numpy(), y_train.numpy(), 'o')\n",
    "plt.title('noisy sin(x)')\n",
    "plt.xlabel('x_train')\n",
    "plt.ylabel('y_train');"
   ]
  },
  {
   "cell_type": "code",
   "execution_count": 20,
   "metadata": {},
   "outputs": [],
   "source": [
    "x_train.unsqueeze_(1)\n",
    "y_train.unsqueeze_(1);"
   ]
  },
  {
   "cell_type": "code",
   "execution_count": 21,
   "metadata": {},
   "outputs": [
    {
     "name": "stdout",
     "output_type": "stream",
     "text": [
      "tensor([1., 2., 3.])\n",
      "tensor([[1.],\n",
      "        [2.],\n",
      "        [3.]])\n"
     ]
    }
   ],
   "source": [
    "tmp = torch.Tensor([1,2,3])\n",
    "print(tmp)\n",
    "print(tmp.unsqueeze(1));"
   ]
  },
  {
   "cell_type": "markdown",
   "metadata": {},
   "source": [
    "# Validation dataset"
   ]
  },
  {
   "cell_type": "code",
   "execution_count": 22,
   "metadata": {},
   "outputs": [
    {
     "data": {
      "image/png": "[encoded data removed]",
      "text/plain": [
       "<Figure size 936x360 with 1 Axes>"
      ]
     },
     "metadata": {
      "needs_background": "light"
     },
     "output_type": "display_data"
    }
   ],
   "source": [
    "figure(figsize=(13.0, 5.0))\n",
    "x_validation = torch.linspace(-10, 10, 100)\n",
    "y_validation = torch.sin(x_validation.data)\n",
    "plt.plot(x_validation.numpy(), y_validation.numpy(), 'o')\n",
    "plt.title(\"sin(x)\")\n",
    "plt.xlabel('x_validation')\n",
    "plt.ylabel('y_validation');"
   ]
  },
  {
   "cell_type": "code",
   "execution_count": 23,
   "metadata": {},
   "outputs": [],
   "source": [
    "x_validation.unsqueeze_(1)\n",
    "y_validation.unsqueeze_(1);"
   ]
  },
  {
   "cell_type": "markdown",
   "metadata": {},
   "source": [
    "# Model construction"
   ]
  },
  {
   "cell_type": "code",
   "execution_count": 24,
   "metadata": {},
   "outputs": [],
   "source": [
    "class SineNet(torch.nn.Module):\n",
    "    def __init__(self, n_hidden_neurons):\n",
    "        super(SineNet, self).__init__()\n",
    "        self.fc1 = torch.nn.Linear(1, n_hidden_neurons) # first layer, (input, hidden)\n",
    "        self.act1 = torch.nn.Sigmoid()\n",
    "        self.fc2 = torch.nn.Linear(n_hidden_neurons,1 )\n",
    "        \n",
    "    def forward(self, x):\n",
    "        x = self.fc1(x)\n",
    "        x = self.act1(x)\n",
    "        x = self.fc2(x)\n",
    "        return x\n",
    "    \n",
    "class SineNet2(torch.nn.Module):\n",
    "    def __init__(self, n_hidden_neurons):\n",
    "        super(SineNet2, self).__init__()\n",
    "        self.fc1 = torch.nn.Linear(1, n_hidden_neurons)\n",
    "        self.act1 = torch.nn.Tanh()\n",
    "        self.fc2 = torch.nn.Linear(n_hidden_neurons, n_hidden_neurons)\n",
    "        self.act2 = torch.nn.Tanh()\n",
    "        self.fc3 = torch.nn.Linear(n_hidden_neurons, 1)\n",
    "\n",
    "    def forward(self, x):\n",
    "        x = self.fc1(x)\n",
    "        x = self.act1(x)\n",
    "        x = self.fc2(x)\n",
    "        x = self.act2(x)\n",
    "        x = self.fc3(x)\n",
    "        return x\n",
    "    \n",
    "sine_net = SineNet(50)\n",
    "sine_net2 = SineNet2(50)"
   ]
  },
  {
   "cell_type": "code",
   "execution_count": 25,
   "metadata": {},
   "outputs": [
    {
     "data": {
      "image/png": "[encoded data removed]",
      "text/plain": [
       "<Figure size 936x360 with 1 Axes>"
      ]
     },
     "metadata": {
      "needs_background": "light"
     },
     "output_type": "display_data"
    }
   ],
   "source": [
    "figure(figsize=(13.0, 5.0))\n",
    "def predict(net, x, y):\n",
    "    y_pred = net.forward(x)\n",
    "    \n",
    "    plt.plot(x.numpy(), y.numpy(), 'o', label='Groud truth')\n",
    "    plt.plot(x.numpy(), y_pred.data.numpy(), 'o', c='r', label='Prediction');\n",
    "    plt.legend(loc='upper left')\n",
    "    plt.xlabel('$x$')\n",
    "    plt.ylabel('$y$')\n",
    "    \n",
    "predict(sine_net, x_validation, y_validation)"
   ]
  },
  {
   "cell_type": "code",
   "execution_count": 26,
   "metadata": {},
   "outputs": [
    {
     "data": {
      "image/png": "[encoded data removed]",
      "text/plain": [
       "<Figure size 936x360 with 1 Axes>"
      ]
     },
     "metadata": {
      "needs_background": "light"
     },
     "output_type": "display_data"
    }
   ],
   "source": [
    "figure(figsize=(13.0, 5.0))\n",
    "predict(sine_net2, x_validation, y_validation)"
   ]
  },
  {
   "cell_type": "markdown",
   "metadata": {},
   "source": [
    "# Optimizer "
   ]
  },
  {
   "cell_type": "code",
   "execution_count": 27,
   "metadata": {},
   "outputs": [],
   "source": [
    "optimizer = torch.optim.Adam(sine_net.parameters(), lr=0.01)"
   ]
  },
  {
   "cell_type": "markdown",
   "metadata": {},
   "source": [
    "# Loss function"
   ]
  },
  {
   "cell_type": "code",
   "execution_count": 28,
   "metadata": {},
   "outputs": [],
   "source": [
    "def loss(pred, target):\n",
    "    squares = (pred - target) ** 2\n",
    "    return squares.mean()"
   ]
  },
  {
   "cell_type": "code",
   "execution_count": 29,
   "metadata": {},
   "outputs": [
    {
     "name": "stdout",
     "output_type": "stream",
     "text": [
      "[Parameter containing:\n",
      "tensor([[ 0.1038],\n",
      "        [ 0.5339],\n",
      "        [-0.5724],\n",
      "        [-0.5309],\n",
      "        [-0.2945],\n",
      "        [ 0.6440],\n",
      "        [ 0.9536],\n",
      "        [ 0.9811],\n",
      "        [-0.4435],\n",
      "        [-0.4487],\n",
      "        [ 0.0670],\n",
      "        [-0.4006],\n",
      "        [-0.4237],\n",
      "        [-0.0015],\n",
      "        [-0.0484],\n",
      "        [-0.8469],\n",
      "        [-0.4459],\n",
      "        [-0.9834],\n",
      "        [ 0.0594],\n",
      "        [-0.0029],\n",
      "        [ 0.3568],\n",
      "        [-0.4050],\n",
      "        [-0.4093],\n",
      "        [ 0.9616],\n",
      "        [ 0.1146],\n",
      "        [ 0.6838],\n",
      "        [ 0.1622],\n",
      "        [ 0.1039],\n",
      "        [ 0.1285],\n",
      "        [ 0.9195],\n",
      "        [ 0.7599],\n",
      "        [-0.8665],\n",
      "        [ 0.9682],\n",
      "        [-0.1507],\n",
      "        [ 0.0733],\n",
      "        [-0.1578],\n",
      "        [ 0.8167],\n",
      "        [ 0.1969],\n",
      "        [ 0.7210],\n",
      "        [-0.2892],\n",
      "        [ 0.1939],\n",
      "        [ 0.4155],\n",
      "        [-0.6849],\n",
      "        [-0.1788],\n",
      "        [-0.4892],\n",
      "        [-0.2358],\n",
      "        [ 0.2385],\n",
      "        [ 0.6338],\n",
      "        [ 0.4682],\n",
      "        [ 0.1957]], requires_grad=True), Parameter containing:\n",
      "tensor([-0.5778,  0.1250, -0.1016, -0.1057, -0.9019, -0.7986, -0.2272, -0.3303,\n",
      "         0.3346,  0.1078,  0.5198,  0.1065, -0.2061, -0.6738,  0.2935,  0.4662,\n",
      "         0.8347,  0.4213,  0.0992, -0.8229, -0.6619, -0.6998, -0.9072,  0.3618,\n",
      "         0.8157,  0.6060, -0.4103,  0.1111,  0.5415, -0.9035,  0.6810,  0.8565,\n",
      "        -0.4486, -0.7000, -0.8959, -0.0913, -0.1758, -0.5341, -0.8575, -0.4359,\n",
      "        -0.4105, -0.0748, -0.6013,  0.9998, -0.5399,  0.7011, -0.1718, -0.3139,\n",
      "        -0.8161,  0.9764], requires_grad=True), Parameter containing:\n",
      "tensor([[ 0.1060, -0.0292,  0.1029,  0.0474,  0.0877,  0.0910,  0.0737,  0.0523,\n",
      "          0.1343,  0.0306, -0.0820, -0.0888,  0.0297, -0.0896, -0.0102,  0.0615,\n",
      "         -0.1012,  0.1140,  0.0645,  0.0710,  0.0394, -0.0728, -0.0023, -0.0613,\n",
      "         -0.0117,  0.0611,  0.0293,  0.1139, -0.0628,  0.0737, -0.1045,  0.1102,\n",
      "         -0.0486, -0.0413, -0.0083, -0.1049, -0.0778,  0.1382,  0.0847,  0.1117,\n",
      "         -0.0648, -0.0281, -0.0184,  0.0586, -0.1362, -0.0472, -0.0825,  0.0067,\n",
      "         -0.0853,  0.0382]], requires_grad=True), Parameter containing:\n",
      "tensor([0.0345], requires_grad=True)]\n"
     ]
    }
   ],
   "source": [
    "print(list(sine_net.parameters()));"
   ]
  },
  {
   "cell_type": "markdown",
   "metadata": {},
   "source": [
    "# Training procedure"
   ]
  },
  {
   "cell_type": "code",
   "execution_count": 30,
   "metadata": {},
   "outputs": [
    {
     "data": {
      "image/png": "[encoded data removed]",
      "text/plain": [
       "<Figure size 936x360 with 1 Axes>"
      ]
     },
     "metadata": {
      "needs_background": "light"
     },
     "output_type": "display_data"
    }
   ],
   "source": [
    "figure(figsize=(13.0, 5.0))\n",
    "for epoch_index in range(2000):\n",
    "    optimizer.zero_grad()\n",
    "    y_pred = sine_net.forward(x_train)\n",
    "    loss_val = loss(y_pred, y_train)\n",
    "    \n",
    "    loss_val.backward()\n",
    "    \n",
    "    optimizer.step()\n",
    "predict(sine_net, x_validation, y_validation)"
   ]
  },
  {
   "cell_type": "code",
   "execution_count": 33,
   "metadata": {},
   "outputs": [
    {
     "name": "stdout",
     "output_type": "stream",
     "text": [
      "0.015913965180516243\n"
     ]
    },
    {
     "data": {
      "image/png": "[encoded data removed]",
      "text/plain": [
       "<Figure size 936x360 with 1 Axes>"
      ]
     },
     "metadata": {
      "needs_background": "light"
     },
     "output_type": "display_data"
    }
   ],
   "source": [
    "figure(figsize=(13.0, 5.0))\n",
    "import torch\n",
    "\n",
    "def predict(net, x, y):\n",
    "    y_pred = net.forward(x)\n",
    "    \n",
    "    plt.plot(x.numpy(), y.numpy(), 'o', label='Groud truth')\n",
    "    plt.plot(x.numpy(), y_pred.data.numpy(), 'o', c='r', label='Prediction');\n",
    "    plt.legend(loc='upper left')\n",
    "    plt.xlabel('$x$')\n",
    "    plt.ylabel('$y$')\n",
    "\n",
    "\n",
    "class RegressionNet(torch.nn.Module):\n",
    "    def __init__(self, n_hidden_neurons):\n",
    "        super(RegressionNet, self).__init__()\n",
    "        self.fc1 = torch.nn.Linear(1, n_hidden_neurons)\n",
    "        self.act1 = torch.nn.Sigmoid()\n",
    "        self.fc2 = torch.nn.Linear(n_hidden_neurons, 1)\n",
    "        \n",
    "    def forward(self, x):\n",
    "        x = self.fc1(x)\n",
    "        x = self.act1(x)\n",
    "        x = self.fc2(x)\n",
    "        return x\n",
    "\n",
    "net = RegressionNet(15)\n",
    "\n",
    "def target_function(x):\n",
    "    return 2**x * torch.sin(2**-x)\n",
    "\n",
    "# ------Dataset preparation start--------:\n",
    "x_train =  torch.linspace(-10, 5, 400)\n",
    "y_train = target_function(x_train)\n",
    "noise = torch.randn(y_train.shape) / 20.\n",
    "y_train = y_train + noise\n",
    "x_train.unsqueeze_(1)\n",
    "y_train.unsqueeze_(1)\n",
    "\n",
    "x_validation = torch.linspace(-10, 5, 400)\n",
    "y_validation = target_function(x_validation)\n",
    "x_validation.unsqueeze_(1)\n",
    "y_validation.unsqueeze_(1)\n",
    "# ------Dataset preparation end--------:\n",
    "\n",
    "def metric(pred, target):\n",
    "    return (pred - target).abs().mean()\n",
    "\n",
    "optimizer = torch.optim.Adam(net.parameters(), lr=0.1)\n",
    "\n",
    "def loss(pred, target):\n",
    "    loss = (pred - target) ** 2\n",
    "    return loss.mean()\n",
    "\n",
    "for epoch_index in range(2000):\n",
    "    optimizer.zero_grad()\n",
    "\n",
    "    y_pred = net.forward(x_train)\n",
    "    loss_value = loss(y_pred, y_train)\n",
    "    loss_value.backward()\n",
    "    optimizer.step()\n",
    "    \n",
    "predict(net, x_validation, y_validation)\n",
    "    \n",
    "print(metric(net.forward(x_validation), y_validation).item())"
   ]
  },
  {
   "cell_type": "code",
   "execution_count": 34,
   "metadata": {},
   "outputs": [
    {
     "data": {
      "text/plain": [
       "<Figure size 936x360 with 0 Axes>"
      ]
     },
     "metadata": {},
     "output_type": "display_data"
    }
   ],
   "source": [
    "figure(figsize=(13.0, 5.0))\n",
    "class MyNet(torch.nn.Module):\n",
    "    def __init__(self, n_hidden_neurons):\n",
    "        super(MyNet, self).__init__()\n",
    "        self.fc1 = torch.nn.Linear(1, n_hidden_neurons)\n",
    "        self.act1 = torch.nn.Sigmoid()\n",
    "        self.fc2 = torch.nn.Linear(n_hidden_neurons, 1)\n",
    "        \n",
    "    def forward(self, x):\n",
    "        x = self.fc1(x)\n",
    "        x = self.act1(x)\n",
    "        x = self.fc2(x)\n",
    "        return x\n",
    "    \n",
    "    def predict(self, x_validation, y_validation):\n",
    "        y_pred = self.forward(x_validation)\n",
    "        plt.plot(x_validation.numpy(), y_validation.numpy(), 'o', label='Groud truth')\n",
    "        plt.plot(x_validation.numpy(), y_pred.data.numpy(), 'o', c='r', label='Prediction');\n",
    "        plt.legend(loc='upper left')\n",
    "        plt.xlabel('$x$')\n",
    "        plt.ylabel('$y$')\n",
    "\n",
    "    def learning_net(self, epoch, x_train, y_train, loss_func):\n",
    "            self.optimizer = torch.optim.Adam(self.parameters(), lr=0.01)\n",
    "            for i in range(epoch):\n",
    "                self.optimizer.zero_grad()\n",
    "                y_pred = self.forward(x_train)\n",
    "                loss = loss_func(y_pred, y_train)\n",
    "                loss.backward()\n",
    "                self.optimizer.step()"
   ]
  },
  {
   "cell_type": "code",
   "execution_count": 36,
   "metadata": {},
   "outputs": [
    {
     "data": {
      "image/png": "[encoded data removed]",
      "text/plain": [
       "<Figure size 1296x432 with 1 Axes>"
      ]
     },
     "metadata": {
      "needs_background": "light"
     },
     "output_type": "display_data"
    }
   ],
   "source": [
    "figure(figsize=(18.0, 6.))\n",
    "\n",
    "def target_function(x):\n",
    "    return 2**torch.sin(x)\n",
    "\n",
    "def MSEs(predict, target):\n",
    "    lossed = (predict - target) ** 2\n",
    "    return lossed.mean()\n",
    "\n",
    "#Datasets for learning net\n",
    "\n",
    "x_validation = torch.linspace(-20, 20, 100)\n",
    "y_validation = target_function(x_validation)\n",
    "\n",
    "x_validation.unsqueeze_(1)\n",
    "y_validation.unsqueeze_(1)\n",
    "\n",
    "x_train = torch.rand(800)\n",
    "x_train = x_train * 40 - 20\n",
    "y_train = target_function(x_train)\n",
    "y_train += torch.randn(x_train.shape) / 5.\n",
    "\n",
    "x_train.unsqueeze_(1)\n",
    "y_train.unsqueeze_(1)\n",
    "\n",
    "net = MyNet(40)\n",
    "net.learning_net(6000, x_train, y_train, MSEs)\n",
    "net.predict(x_validation, y_validation)\n"
   ]
  },
  {
   "cell_type": "code",
   "execution_count": 37,
   "metadata": {},
   "outputs": [],
   "source": [
    "#Optimization neural network for recognition numbers\n",
    "\n",
    "import torch\n",
    "import random\n",
    "import numpy as np\n",
    "\n",
    "random.seed(0)\n",
    "torch.manual_seed(0)\n",
    "torch.cuda.manual_seed(0)\n",
    "torch.backends.cudnn.deterministic = True"
   ]
  },
  {
   "cell_type": "code",
   "execution_count": 39,
   "metadata": {},
   "outputs": [
    {
     "data": {
      "text/plain": [
       "(178, 13)"
      ]
     },
     "execution_count": 39,
     "metadata": {},
     "output_type": "execute_result"
    }
   ],
   "source": [
    "import sklearn.datasets\n",
    "wine = sklearn.datasets.load_wine()\n",
    "wine.data.shape"
   ]
  },
  {
   "cell_type": "code",
   "execution_count": 59,
   "metadata": {},
   "outputs": [],
   "source": [
    "from sklearn.model_selection import train_test_split\n",
    "X_train, X_test, y_train, y_test = train_test_split(\n",
    "wine.data[:,:12],\n",
    "wine.target,\n",
    "test_size=0.3,\n",
    "shuffle=True)\n",
    "\n",
    "X_train = torch.FloatTensor(X_train)\n",
    "X_test = torch.FloatTensor(X_test)\n",
    "y_train = torch.LongTensor(y_train)\n",
    "y_test = torch.LongTensor(y_test)"
   ]
  },
  {
   "cell_type": "code",
   "execution_count": 60,
   "metadata": {},
   "outputs": [],
   "source": [
    "class WineNet(torch.nn.Module):\n",
    "    def __init__(self, n_hidden_neurons):\n",
    "        super(WineNet, self).__init__()\n",
    "        \n",
    "        self.fc1 = torch.nn.Linear(12, n_hidden_neurons)\n",
    "        self.activ1 = torch.nn.Sigmoid()\n",
    "        self.fc2 = torch.nn.Linear(n_hidden_neurons, n_hidden_neurons)\n",
    "        self.activ2 = torch.nn.Sigmoid()\n",
    "        self.fc3 = torch.nn.Linear(n_hidden_neurons, 3)\n",
    "        self.sm = torch.nn.Softmax(dim=1)\n",
    "        \n",
    "    def forward(self, x):\n",
    "        x = self.fc1(x)\n",
    "        x = self.activ1(x)\n",
    "        x = self.fc2(x)\n",
    "        x = self.activ2(x)\n",
    "        x = self.fc3(x)\n",
    "        return x\n",
    "    \n",
    "    def inference(self, x):\n",
    "        x = self.forward(x)\n",
    "        x = self.sm(x)\n",
    "        return x\n",
    "    \n",
    "wine_net = WineNet(20)\n",
    "\n",
    "loss = torch.nn.CrossEntropyLoss()\n",
    "optimizer = torch.optim.Adam(wine_net.parameters(), lr=1.0e-3)"
   ]
  },
  {
   "cell_type": "code",
   "execution_count": 56,
   "metadata": {},
   "outputs": [
    {
     "data": {
      "text/plain": [
       "array([0, 3, 2, 4, 1])"
      ]
     },
     "execution_count": 56,
     "metadata": {},
     "output_type": "execute_result"
    }
   ],
   "source": [
    "np.random.permutation(5)"
   ]
  },
  {
   "cell_type": "code",
   "execution_count": 61,
   "metadata": {},
   "outputs": [
    {
     "name": "stdout",
     "output_type": "stream",
     "text": [
      "tensor(0.3148)\n",
      "tensor(0.9259)\n",
      "tensor(0.9444)\n",
      "tensor(0.9444)\n",
      "tensor(0.9630)\n",
      "tensor(0.9444)\n",
      "tensor(0.9630)\n",
      "tensor(0.9630)\n",
      "tensor(0.9630)\n",
      "tensor(0.9630)\n",
      "tensor(0.9630)\n",
      "tensor(0.9630)\n",
      "tensor(0.9815)\n",
      "tensor(0.9815)\n",
      "tensor(0.9815)\n",
      "tensor(0.9815)\n",
      "tensor(0.9815)\n",
      "tensor(0.9815)\n",
      "tensor(0.9815)\n",
      "tensor(0.9815)\n",
      "tensor(0.9815)\n",
      "tensor(0.9815)\n",
      "tensor(0.9815)\n",
      "tensor(0.9815)\n",
      "tensor(0.9815)\n",
      "tensor(0.9815)\n",
      "tensor(0.9815)\n",
      "tensor(0.9815)\n",
      "tensor(0.9815)\n",
      "tensor(0.9815)\n",
      "tensor(0.9815)\n",
      "tensor(0.9815)\n",
      "tensor(0.9815)\n",
      "tensor(0.9815)\n",
      "tensor(0.9815)\n",
      "tensor(0.9815)\n",
      "tensor(0.9815)\n",
      "tensor(0.9815)\n",
      "tensor(0.9815)\n",
      "tensor(0.9815)\n",
      "tensor(0.9815)\n",
      "tensor(0.9815)\n",
      "tensor(0.9815)\n",
      "tensor(0.9815)\n",
      "tensor(0.9815)\n",
      "tensor(0.9815)\n",
      "tensor(0.9815)\n",
      "tensor(0.9815)\n",
      "tensor(0.9815)\n",
      "tensor(0.9815)\n",
      "tensor(0.9815)\n",
      "tensor(0.9815)\n",
      "tensor(0.9815)\n",
      "tensor(0.9815)\n",
      "tensor(0.9815)\n",
      "tensor(0.9815)\n",
      "tensor(0.9815)\n",
      "tensor(0.9815)\n",
      "tensor(0.9815)\n",
      "tensor(0.9815)\n",
      "tensor(0.9815)\n",
      "tensor(0.9815)\n",
      "tensor(0.9815)\n",
      "tensor(0.9815)\n",
      "tensor(0.9815)\n",
      "tensor(0.9815)\n",
      "tensor(0.9815)\n",
      "tensor(0.9815)\n",
      "tensor(0.9815)\n",
      "tensor(0.9815)\n",
      "tensor(0.9815)\n",
      "tensor(0.9815)\n",
      "tensor(0.9815)\n",
      "tensor(0.9815)\n"
     ]
    },
    {
     "ename": "KeyboardInterrupt",
     "evalue": "",
     "output_type": "error",
     "traceback": [
      "\u001b[1;31m---------------------------------------------------------------------------\u001b[0m",
      "\u001b[1;31mKeyboardInterrupt\u001b[0m                         Traceback (most recent call last)",
      "\u001b[1;32m<ipython-input-61-fdfe99dead61>\u001b[0m in \u001b[0;36m<module>\u001b[1;34m\u001b[0m\n\u001b[0;32m     14\u001b[0m \u001b[1;33m\u001b[0m\u001b[0m\n\u001b[0;32m     15\u001b[0m         \u001b[0mloss_val\u001b[0m \u001b[1;33m=\u001b[0m \u001b[0mloss\u001b[0m\u001b[1;33m(\u001b[0m\u001b[0mpreds\u001b[0m\u001b[1;33m,\u001b[0m \u001b[0my_batch\u001b[0m\u001b[1;33m)\u001b[0m\u001b[1;33m\u001b[0m\u001b[1;33m\u001b[0m\u001b[0m\n\u001b[1;32m---> 16\u001b[1;33m         \u001b[0mloss_val\u001b[0m\u001b[1;33m.\u001b[0m\u001b[0mbackward\u001b[0m\u001b[1;33m(\u001b[0m\u001b[1;33m)\u001b[0m\u001b[1;33m\u001b[0m\u001b[1;33m\u001b[0m\u001b[0m\n\u001b[0m\u001b[0;32m     17\u001b[0m \u001b[1;33m\u001b[0m\u001b[0m\n\u001b[0;32m     18\u001b[0m         \u001b[0moptimizer\u001b[0m\u001b[1;33m.\u001b[0m\u001b[0mstep\u001b[0m\u001b[1;33m(\u001b[0m\u001b[1;33m)\u001b[0m\u001b[1;33m\u001b[0m\u001b[1;33m\u001b[0m\u001b[0m\n",
      "\u001b[1;32m~\\Anaconda3\\lib\\site-packages\\torch\\tensor.py\u001b[0m in \u001b[0;36mbackward\u001b[1;34m(self, gradient, retain_graph, create_graph)\u001b[0m\n\u001b[0;32m    116\u001b[0m                 \u001b[0mproducts\u001b[0m\u001b[1;33m.\u001b[0m \u001b[0mDefaults\u001b[0m \u001b[0mto\u001b[0m\u001b[0;31m \u001b[0m\u001b[0;31m`\u001b[0m\u001b[0;31m`\u001b[0m\u001b[1;32mFalse\u001b[0m\u001b[0;31m`\u001b[0m\u001b[0;31m`\u001b[0m\u001b[1;33m.\u001b[0m\u001b[1;33m\u001b[0m\u001b[1;33m\u001b[0m\u001b[0m\n\u001b[0;32m    117\u001b[0m         \"\"\"\n\u001b[1;32m--> 118\u001b[1;33m         \u001b[0mtorch\u001b[0m\u001b[1;33m.\u001b[0m\u001b[0mautograd\u001b[0m\u001b[1;33m.\u001b[0m\u001b[0mbackward\u001b[0m\u001b[1;33m(\u001b[0m\u001b[0mself\u001b[0m\u001b[1;33m,\u001b[0m \u001b[0mgradient\u001b[0m\u001b[1;33m,\u001b[0m \u001b[0mretain_graph\u001b[0m\u001b[1;33m,\u001b[0m \u001b[0mcreate_graph\u001b[0m\u001b[1;33m)\u001b[0m\u001b[1;33m\u001b[0m\u001b[1;33m\u001b[0m\u001b[0m\n\u001b[0m\u001b[0;32m    119\u001b[0m \u001b[1;33m\u001b[0m\u001b[0m\n\u001b[0;32m    120\u001b[0m     \u001b[1;32mdef\u001b[0m \u001b[0mregister_hook\u001b[0m\u001b[1;33m(\u001b[0m\u001b[0mself\u001b[0m\u001b[1;33m,\u001b[0m \u001b[0mhook\u001b[0m\u001b[1;33m)\u001b[0m\u001b[1;33m:\u001b[0m\u001b[1;33m\u001b[0m\u001b[1;33m\u001b[0m\u001b[0m\n",
      "\u001b[1;32m~\\Anaconda3\\lib\\site-packages\\torch\\autograd\\__init__.py\u001b[0m in \u001b[0;36mbackward\u001b[1;34m(tensors, grad_tensors, retain_graph, create_graph, grad_variables)\u001b[0m\n\u001b[0;32m     91\u001b[0m     Variable._execution_engine.run_backward(\n\u001b[0;32m     92\u001b[0m         \u001b[0mtensors\u001b[0m\u001b[1;33m,\u001b[0m \u001b[0mgrad_tensors\u001b[0m\u001b[1;33m,\u001b[0m \u001b[0mretain_graph\u001b[0m\u001b[1;33m,\u001b[0m \u001b[0mcreate_graph\u001b[0m\u001b[1;33m,\u001b[0m\u001b[1;33m\u001b[0m\u001b[1;33m\u001b[0m\u001b[0m\n\u001b[1;32m---> 93\u001b[1;33m         allow_unreachable=True)  # allow_unreachable flag\n\u001b[0m\u001b[0;32m     94\u001b[0m \u001b[1;33m\u001b[0m\u001b[0m\n\u001b[0;32m     95\u001b[0m \u001b[1;33m\u001b[0m\u001b[0m\n",
      "\u001b[1;31mKeyboardInterrupt\u001b[0m: "
     ]
    }
   ],
   "source": [
    "batch_size = 10\n",
    "\n",
    "for epoch in range(10000):\n",
    "    order = np.random.permutation(len(X_train))\n",
    "    for start_index in range(0, len(X_train), batch_size):\n",
    "        optimizer.zero_grad()\n",
    "        \n",
    "        batch_indexes = order[start_index:start_index + batch_size]\n",
    "        \n",
    "        x_batch = X_train[batch_indexes]\n",
    "        y_batch = y_train[batch_indexes]\n",
    "        \n",
    "        preds = wine_net.forward(x_batch)\n",
    "        \n",
    "        loss_val = loss(preds, y_batch)\n",
    "        loss_val.backward()\n",
    "        \n",
    "        optimizer.step()\n",
    "    \n",
    "    if epoch % 100 == 0:\n",
    "        test_preds = wine_net.forward(X_test)\n",
    "        test_preds = test_preds.argmax(dim=1)\n",
    "        print((test_preds == y_test).float().mean())"
   ]
  },
  {
   "cell_type": "code",
   "execution_count": null,
   "metadata": {},
   "outputs": [],
   "source": []
  }
 ],
 "metadata": {
  "kernelspec": {
   "display_name": "Python 3",
   "language": "python",
   "name": "python3"
  },
  "language_info": {
   "codemirror_mode": {
    "name": "ipython",
    "version": 3
   },
   "file_extension": ".py",
   "mimetype": "text/x-python",
   "name": "python",
   "nbconvert_exporter": "python",
   "pygments_lexer": "ipython3",
   "version": "3.7.3"
  }
 },
 "nbformat": 4,
 "nbformat_minor": 2
}
